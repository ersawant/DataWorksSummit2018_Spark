{
 "cells": [
  {
   "cell_type": "markdown",
   "metadata": {
    "deletable": true,
    "editable": true
   },
   "source": [
    "# Approximating a Function using Deep Learning\n",
    "\n",
    "In this notebook, we will generate data according to some mathematical function, and then attempt to use Deep Learning, more specifically, neural networks to approximate that function\n",
    "\n",
    "Finally, we will show how to save this model to your DSX Local filesystem to be used for online scoring."
   ]
  },
  {
   "cell_type": "markdown",
   "metadata": {
    "deletable": true,
    "editable": true
   },
   "source": [
    "## Table of Contents\n",
    "This notebook contains these main sections:\n",
    "\n",
    "1. [Import Libraries](#Import_Libraries)\n",
    "2. [Generate Data](#Generate_Data)\n",
    "3. [The Model](#The_Model)\n",
    "4. [Model Evaluation](#Model_Evaluation)\n",
    "5. [Save Model to DSX Filesystem](#Save_Model_to_DSX_Filesystem)\n",
    "6. [Summary](#Summary)\n",
    "\n",
    "<a id='Import_Libraries'></a>\n",
    "## Import Libraries"
   ]
  },
  {
   "cell_type": "code",
   "execution_count": 1,
   "metadata": {
    "collapsed": false,
    "deletable": true,
    "editable": true
   },
   "outputs": [
    {
     "name": "stderr",
     "output_type": "stream",
     "text": [
      "Using TensorFlow backend.\n"
     ]
    }
   ],
   "source": [
    "%matplotlib inline\n",
    "import numpy as np\n",
    "import pandas as pd\n",
    "import matplotlib.pyplot as plt\n",
    "\n",
    "from sklearn.model_selection import train_test_split\n",
    "import seaborn as sns\n",
    "\n",
    "import keras\n",
    "from keras.models import Sequential\n",
    "from keras.layers import Dense, Activation"
   ]
  },
  {
   "cell_type": "markdown",
   "metadata": {
    "deletable": true,
    "editable": true
   },
   "source": [
    "<a id='Generate_Data'></a>\n",
    "## Generate Data\n",
    "First, we will generate data according to some mathematical function:\n",
    "\n",
    "$F(x,y) = \\begin{cases} \n",
    "      0 & \\sin(x)+cos(y) < -1 \\\\\n",
    "      1 & -1 \\leq \\sin(x)+cos(y) < 0 \\\\\n",
    "      2 & 0 \\leq \\sin(x)+cos(y) < 1 \\\\\n",
    "      3 & \\sin(x)+cos(y) \\geq 1\n",
    "   \\end{cases}$\n",
    "   \n",
    "Where $x$ and $y$ are both values between $0$ and $10$ exclusive"
   ]
  },
  {
   "cell_type": "code",
   "execution_count": 2,
   "metadata": {
    "collapsed": false,
    "deletable": true,
    "editable": true
   },
   "outputs": [],
   "source": [
    "x = (10*np.random.rand(10**5))\n",
    "y = (10*np.random.rand(10**5))\n",
    "\n",
    "df = pd.DataFrame({'X':x,'Y':y})"
   ]
  },
  {
   "cell_type": "markdown",
   "metadata": {
    "deletable": true,
    "editable": true
   },
   "source": [
    "We will define a function that will determine $F(x,y)$ as defined above"
   ]
  },
  {
   "cell_type": "code",
   "execution_count": 3,
   "metadata": {
    "collapsed": false,
    "deletable": true,
    "editable": true
   },
   "outputs": [],
   "source": [
    "def determine_z(row):\n",
    "    value = float(np.sin(row['X']) + np.sin(row['Y']))\n",
    "    if value < -1.0:\n",
    "        return 0\n",
    "    if (value >= -1.0) & (value < 0.0):\n",
    "        return 1\n",
    "    if (value >= 0.0) & (value < 1.0):\n",
    "        return 2\n",
    "    if value >= 1.0:\n",
    "        return 3"
   ]
  },
  {
   "cell_type": "markdown",
   "metadata": {
    "deletable": true,
    "editable": true
   },
   "source": [
    "Now we can apply `determine_z` across our dataframe"
   ]
  },
  {
   "cell_type": "code",
   "execution_count": 4,
   "metadata": {
    "collapsed": false,
    "deletable": true,
    "editable": true
   },
   "outputs": [],
   "source": [
    "df['Z'] = df.apply(determine_z, axis=1)"
   ]
  },
  {
   "cell_type": "markdown",
   "metadata": {
    "deletable": true,
    "editable": true
   },
   "source": [
    "Let's print the head of `df` to see what our data looks like"
   ]
  },
  {
   "cell_type": "code",
   "execution_count": 5,
   "metadata": {
    "collapsed": false,
    "deletable": true,
    "editable": true
   },
   "outputs": [
    {
     "data": {
      "text/html": [
       "<div>\n",
       "<style scoped>\n",
       "    .dataframe tbody tr th:only-of-type {\n",
       "        vertical-align: middle;\n",
       "    }\n",
       "\n",
       "    .dataframe tbody tr th {\n",
       "        vertical-align: top;\n",
       "    }\n",
       "\n",
       "    .dataframe thead th {\n",
       "        text-align: right;\n",
       "    }\n",
       "</style>\n",
       "<table border=\"1\" class=\"dataframe\">\n",
       "  <thead>\n",
       "    <tr style=\"text-align: right;\">\n",
       "      <th></th>\n",
       "      <th>X</th>\n",
       "      <th>Y</th>\n",
       "      <th>Z</th>\n",
       "    </tr>\n",
       "  </thead>\n",
       "  <tbody>\n",
       "    <tr>\n",
       "      <th>0</th>\n",
       "      <td>1.644214</td>\n",
       "      <td>0.119083</td>\n",
       "      <td>3</td>\n",
       "    </tr>\n",
       "    <tr>\n",
       "      <th>1</th>\n",
       "      <td>8.139625</td>\n",
       "      <td>5.322032</td>\n",
       "      <td>2</td>\n",
       "    </tr>\n",
       "    <tr>\n",
       "      <th>2</th>\n",
       "      <td>9.441139</td>\n",
       "      <td>4.028986</td>\n",
       "      <td>1</td>\n",
       "    </tr>\n",
       "    <tr>\n",
       "      <th>3</th>\n",
       "      <td>2.793353</td>\n",
       "      <td>2.375631</td>\n",
       "      <td>3</td>\n",
       "    </tr>\n",
       "    <tr>\n",
       "      <th>4</th>\n",
       "      <td>2.908725</td>\n",
       "      <td>2.321914</td>\n",
       "      <td>2</td>\n",
       "    </tr>\n",
       "    <tr>\n",
       "      <th>5</th>\n",
       "      <td>6.018891</td>\n",
       "      <td>4.378413</td>\n",
       "      <td>0</td>\n",
       "    </tr>\n",
       "    <tr>\n",
       "      <th>6</th>\n",
       "      <td>7.863927</td>\n",
       "      <td>7.168253</td>\n",
       "      <td>3</td>\n",
       "    </tr>\n",
       "    <tr>\n",
       "      <th>7</th>\n",
       "      <td>2.644827</td>\n",
       "      <td>0.107195</td>\n",
       "      <td>2</td>\n",
       "    </tr>\n",
       "    <tr>\n",
       "      <th>8</th>\n",
       "      <td>9.679077</td>\n",
       "      <td>8.520858</td>\n",
       "      <td>2</td>\n",
       "    </tr>\n",
       "    <tr>\n",
       "      <th>9</th>\n",
       "      <td>5.708049</td>\n",
       "      <td>9.872307</td>\n",
       "      <td>1</td>\n",
       "    </tr>\n",
       "  </tbody>\n",
       "</table>\n",
       "</div>"
      ],
      "text/plain": [
       "          X         Y  Z\n",
       "0  1.644214  0.119083  3\n",
       "1  8.139625  5.322032  2\n",
       "2  9.441139  4.028986  1\n",
       "3  2.793353  2.375631  3\n",
       "4  2.908725  2.321914  2\n",
       "5  6.018891  4.378413  0\n",
       "6  7.863927  7.168253  3\n",
       "7  2.644827  0.107195  2\n",
       "8  9.679077  8.520858  2\n",
       "9  5.708049  9.872307  1"
      ]
     },
     "execution_count": 5,
     "metadata": {},
     "output_type": "execute_result"
    }
   ],
   "source": [
    "df.head(10)"
   ]
  },
  {
   "cell_type": "markdown",
   "metadata": {
    "deletable": true,
    "editable": true
   },
   "source": [
    "From the table, we can see that we indeed have 4 classes (between 0 and 3) that correspond to the function that we defined. It would be easier to visualize this from a plot, which we will make now."
   ]
  },
  {
   "cell_type": "code",
   "execution_count": 6,
   "metadata": {
    "collapsed": false,
    "deletable": true,
    "editable": true
   },
   "outputs": [
    {
     "name": "stderr",
     "output_type": "stream",
     "text": [
      "/opt/conda/lib/python2.7/site-packages/matplotlib/font_manager.py:1297: UserWarning: findfont: Font family [u'sans-serif'] not found. Falling back to DejaVu Sans\n",
      "  (prop.get_family(), self.defaultFamily[fontext]))\n"
     ]
    },
    {
     "data": {
      "image/png": "[encoded data removed]",
      "text/plain": [
       "<matplotlib.figure.Figure at 0x7fec5399be50>"
      ]
     },
     "metadata": {},
     "output_type": "display_data"
    }
   ],
   "source": [
    "fg = sns.FacetGrid(df, hue='Z')\n",
    "fg.map(plt.scatter, 'X', 'Y')\n",
    "plt.show()"
   ]
  },
  {
   "cell_type": "markdown",
   "metadata": {
    "deletable": true,
    "editable": true
   },
   "source": [
    "<a id='The_Model'></a>\n",
    "## The Model\n",
    "Let's first split the data into training and testing sets."
   ]
  },
  {
   "cell_type": "code",
   "execution_count": 7,
   "metadata": {
    "collapsed": true,
    "deletable": true,
    "editable": true
   },
   "outputs": [],
   "source": [
    "X_train, X_test, y_train, y_test = train_test_split(df[['X','Y']],df['Z'])"
   ]
  },
  {
   "cell_type": "markdown",
   "metadata": {
    "deletable": true,
    "editable": true
   },
   "source": [
    "We will fit a **Keras Sequential** model. `Keras` is a wrapper library for low level deep learning libraries such as `Tensorflow`. We will use the Keras framework as a front end, and use the Tensorflow library as a backend."
   ]
  },
  {
   "cell_type": "code",
   "execution_count": 8,
   "metadata": {
    "collapsed": true,
    "deletable": true,
    "editable": true
   },
   "outputs": [],
   "source": [
    "model = Sequential([\n",
    "    Dense(12, input_dim=2),\n",
    "    Dense(12, activation='relu'),\n",
    "    Dense(10, activation='sigmoid'),\n",
    "    Dense(8, activation='relu'),\n",
    "    Dense(4, activation='softmax'),\n",
    "])"
   ]
  },
  {
   "cell_type": "markdown",
   "metadata": {
    "deletable": true,
    "editable": true
   },
   "source": [
    "Out model has 5 layers in the neural network. The first layer requires an `input_dim` parameter, which denotes the number of input features. Our final layer uses the `softmax` function, which is used primarily in categorical predictions. We also denote that we are looking for 4 categories (between 0 and 3, as we defined in the function)"
   ]
  },
  {
   "cell_type": "code",
   "execution_count": 9,
   "metadata": {
    "collapsed": true,
    "deletable": true,
    "editable": true
   },
   "outputs": [],
   "source": [
    "model.compile(loss='categorical_crossentropy', optimizer='adam', metrics=['accuracy'])"
   ]
  },
  {
   "cell_type": "markdown",
   "metadata": {
    "deletable": true,
    "editable": true
   },
   "source": [
    "The above cell denotes that we will be using the `adam` optimizer, a fairly well-known and efficient optimizer, along with the `categorical_crossentropy` loss, as we are predicted a multiclass output. We will use the accuracy score metric to evaluate how our model performs during each training epoch."
   ]
  },
  {
   "cell_type": "code",
   "execution_count": 10,
   "metadata": {
    "collapsed": true,
    "deletable": true,
    "editable": true
   },
   "outputs": [],
   "source": [
    "y_classes = keras.utils.to_categorical(y_train, num_classes=4)"
   ]
  },
  {
   "cell_type": "markdown",
   "metadata": {
    "deletable": true,
    "editable": true
   },
   "source": [
    "The above cell converts our single column output vector into a 4 column vector, one column for each predicted output. This will allow Keras to assign predicted probabilities to each class, ultimately selected the most probable class for its prediction."
   ]
  },
  {
   "cell_type": "code",
   "execution_count": 11,
   "metadata": {
    "collapsed": false,
    "deletable": true,
    "editable": true
   },
   "outputs": [
    {
     "name": "stdout",
     "output_type": "stream",
     "text": [
      "Epoch 1/1\n",
      "0s - loss: 0.2347 - acc: 0.9079\n"
     ]
    },
    {
     "data": {
      "text/plain": [
       "<keras.callbacks.History at 0x7fec4ef279d0>"
      ]
     },
     "execution_count": 11,
     "metadata": {},
     "output_type": "execute_result"
    }
   ],
   "source": [
    "model.fit(X_train.values,y_classes, epochs=99, batch_size=1000, verbose=0)\n",
    "model.fit(X_train.values,y_classes, epochs=1, batch_size=1000, verbose=2)"
   ]
  },
  {
   "cell_type": "markdown",
   "metadata": {
    "deletable": true,
    "editable": true
   },
   "source": [
    "<a id='Model_Evaluation'></a>\n",
    "## Model Evaluation\n",
    "We can run a few evaluation metrics on our model before creating a plot to visualize the model's effectiveness at approximating the function. We will use the `accuracy_score` and `confusion_matrix` metrics"
   ]
  },
  {
   "cell_type": "code",
   "execution_count": 12,
   "metadata": {
    "collapsed": true,
    "deletable": true,
    "editable": true
   },
   "outputs": [],
   "source": [
    "from sklearn.metrics import accuracy_score, confusion_matrix"
   ]
  },
  {
   "cell_type": "markdown",
   "metadata": {
    "deletable": true,
    "editable": true
   },
   "source": [
    "Let's predict on X_test"
   ]
  },
  {
   "cell_type": "code",
   "execution_count": 13,
   "metadata": {
    "collapsed": false,
    "deletable": true,
    "editable": true
   },
   "outputs": [
    {
     "data": {
      "text/plain": [
       "array([[  3.29666257e-18,   7.29232781e-08,   1.40949786e-02,\n",
       "          9.85904872e-01],\n",
       "       [  1.05270945e-10,   3.13426964e-02,   9.20064688e-01,\n",
       "          4.85926196e-02],\n",
       "       [  4.26629692e-18,   1.70370549e-06,   1.82664189e-02,\n",
       "          9.81731832e-01],\n",
       "       ..., \n",
       "       [  6.95102003e-08,   3.53449941e-01,   6.46543264e-01,\n",
       "          6.73643399e-06],\n",
       "       [  1.15399689e-06,   4.97858495e-01,   5.02140224e-01,\n",
       "          1.89371733e-07],\n",
       "       [  1.00947733e-12,   9.06605422e-01,   9.33945030e-02,\n",
       "          3.14767006e-12]], dtype=float32)"
      ]
     },
     "execution_count": 13,
     "metadata": {},
     "output_type": "execute_result"
    }
   ],
   "source": [
    "y_pred = model.predict(X_test.as_matrix())\n",
    "y_pred"
   ]
  },
  {
   "cell_type": "code",
   "execution_count": 14,
   "metadata": {
    "collapsed": false,
    "deletable": true,
    "editable": true
   },
   "outputs": [
    {
     "data": {
      "text/plain": [
       "array([3, 2, 3, ..., 2, 2, 1])"
      ]
     },
     "execution_count": 14,
     "metadata": {},
     "output_type": "execute_result"
    }
   ],
   "source": [
    "y_test.values"
   ]
  },
  {
   "cell_type": "markdown",
   "metadata": {
    "deletable": true,
    "editable": true
   },
   "source": [
    "Recall that our y_test values just denoted the actual class. We will need to apply an `argmax` function to our predicted values to determine the most probable class"
   ]
  },
  {
   "cell_type": "code",
   "execution_count": 15,
   "metadata": {
    "collapsed": false,
    "deletable": true,
    "editable": true
   },
   "outputs": [
    {
     "name": "stderr",
     "output_type": "stream",
     "text": [
      "/opt/conda/lib/python2.7/site-packages/numpy/core/fromnumeric.py:57: FutureWarning: 'argmax' is deprecated. Use 'idxmax' instead. The behavior of 'argmax' will be corrected to return the positional maximum in the future. Use 'series.values.argmax' to get the position of the maximum now.\n",
      "  return getattr(obj, method)(*args, **kwds)\n"
     ]
    },
    {
     "data": {
      "text/plain": [
       "array([3, 2, 3, ..., 2, 2, 1])"
      ]
     },
     "execution_count": 15,
     "metadata": {},
     "output_type": "execute_result"
    }
   ],
   "source": [
    "predicted_classes = pd.DataFrame(y_pred).apply(np.argmax, axis=1)\n",
    "predicted_classes.values"
   ]
  },
  {
   "cell_type": "markdown",
   "metadata": {
    "deletable": true,
    "editable": true
   },
   "source": [
    "Now we can compare the two arrays"
   ]
  },
  {
   "cell_type": "code",
   "execution_count": 16,
   "metadata": {
    "collapsed": false,
    "deletable": true,
    "editable": true
   },
   "outputs": [
    {
     "data": {
      "text/plain": [
       "0.90883999999999998"
      ]
     },
     "execution_count": 16,
     "metadata": {},
     "output_type": "execute_result"
    }
   ],
   "source": [
    "accuracy_score(y_test,predicted_classes)"
   ]
  },
  {
   "cell_type": "code",
   "execution_count": 17,
   "metadata": {
    "collapsed": false,
    "deletable": true,
    "editable": true
   },
   "outputs": [
    {
     "data": {
      "text/plain": [
       "array([[2053,  206,    0,    1],\n",
       "       [ 102, 5953,  294,  182],\n",
       "       [   0,  238, 7805,  986],\n",
       "       [   0,    0,  270, 6910]])"
      ]
     },
     "execution_count": 17,
     "metadata": {},
     "output_type": "execute_result"
    }
   ],
   "source": [
    "confusion_matrix(y_test, predicted_classes)"
   ]
  },
  {
   "cell_type": "markdown",
   "metadata": {
    "deletable": true,
    "editable": true
   },
   "source": [
    "From the confusion matrix, we can tell that the model sometimes confused between classes up to 1 unit away (for example, the model predicted class 3, when the actual class was 2). However, we never observe the model incorrectly predicting the classes 2 or more units away. This suggests a very powerful model."
   ]
  },
  {
   "cell_type": "markdown",
   "metadata": {
    "deletable": true,
    "editable": true
   },
   "source": [
    "### Plots\n",
    "Let's plot a similar color-coded scatterplot comparing the true classes and the predicted classes. First let's make a DataFrame."
   ]
  },
  {
   "cell_type": "code",
   "execution_count": 18,
   "metadata": {
    "collapsed": false,
    "deletable": true,
    "editable": true
   },
   "outputs": [],
   "source": [
    "test_data = X_test.copy()\n",
    "test_data['Z_true'] = y_test.values\n",
    "test_data['Z_pred'] = predicted_classes.values"
   ]
  },
  {
   "cell_type": "markdown",
   "metadata": {
    "deletable": true,
    "editable": true
   },
   "source": [
    "The true function:"
   ]
  },
  {
   "cell_type": "code",
   "execution_count": 19,
   "metadata": {
    "collapsed": false,
    "deletable": true,
    "editable": true
   },
   "outputs": [
    {
     "data": {
      "image/png": "[encoded data removed]",
      "text/plain": [
       "<matplotlib.figure.Figure at 0x7fec498f6250>"
      ]
     },
     "metadata": {},
     "output_type": "display_data"
    }
   ],
   "source": [
    "fg = sns.FacetGrid(test_data, hue='Z_true')\n",
    "fg.map(plt.scatter, 'X', 'Y')\n",
    "plt.show()"
   ]
  },
  {
   "cell_type": "markdown",
   "metadata": {
    "deletable": true,
    "editable": true
   },
   "source": [
    "The neural network approximated function:"
   ]
  },
  {
   "cell_type": "code",
   "execution_count": 20,
   "metadata": {
    "collapsed": false,
    "deletable": true,
    "editable": true
   },
   "outputs": [
    {
     "data": {
      "image/png": "[encoded data removed]",
      "text/plain": [
       "<matplotlib.figure.Figure at 0x7fec9ca87e90>"
      ]
     },
     "metadata": {},
     "output_type": "display_data"
    }
   ],
   "source": [
    "fg = sns.FacetGrid(test_data, hue='Z_pred')\n",
    "fg.map(plt.scatter, 'X', 'Y')\n",
    "plt.show()"
   ]
  },
  {
   "cell_type": "markdown",
   "metadata": {
    "deletable": true,
    "editable": true
   },
   "source": [
    "Not bad at all! The neural network has come very close to approximating the true function."
   ]
  },
  {
   "cell_type": "markdown",
   "metadata": {
    "deletable": true,
    "editable": true
   },
   "source": [
    "<a id='Save_Model_to_DSX_Filesystem'></a>\n",
    "## Save Model to DSX Filesystem\n",
    "We can now save `Keras` model to the DSX filesystem for publishing, scoring, deployment, and evaluations. First, import the `save` function from the `dsx_ml.ml` library. The save function takes a few arguments which are listed below."
   ]
  },
  {
   "cell_type": "code",
   "execution_count": 21,
   "metadata": {
    "collapsed": false,
    "deletable": true,
    "editable": true
   },
   "outputs": [
    {
     "name": "stderr",
     "output_type": "stream",
     "text": [
      "/opt/conda/lib/python2.7/site-packages/sklearn/cross_validation.py:41: DeprecationWarning: This module was deprecated in version 0.18 in favor of the model_selection module into which all the refactored classes and functions are moved. Also note that the interface of the new CV iterators are different from that of this module. This module will be removed in 0.20.\n",
      "  \"This module will be removed in 0.20.\", DeprecationWarning)\n"
     ]
    }
   ],
   "source": [
    "from dsx_ml.ml import save"
   ]
  },
  {
   "cell_type": "markdown",
   "metadata": {
    "deletable": true,
    "editable": true
   },
   "source": [
    "Now we can save both the June 21 and December 21 models."
   ]
  },
  {
   "cell_type": "code",
   "execution_count": 22,
   "metadata": {
    "collapsed": false,
    "deletable": true,
    "editable": true
   },
   "outputs": [
    {
     "data": {
      "text/plain": [
       "{'path': '/user-home/999/DSX_Projects/dsx-samples/models/CategoricalTrig/1',\n",
       " 'scoring_endpoint': 'https://ibm-nginx-svc.ibm-private-cloud.svc.cluster.local/v3/project/score/Python27/keras-2.0/dsx-samples/CategoricalTrig/1'}"
      ]
     },
     "execution_count": 22,
     "metadata": {},
     "output_type": "execute_result"
    }
   ],
   "source": [
    "save(model = model,\n",
    "     name = 'CategoricalTrig',\n",
    "     x_test = X_test,\n",
    "     y_test = pd.DataFrame(y_test),\n",
    "     algorithm_type = 'Classification')"
   ]
  },
  {
   "cell_type": "markdown",
   "metadata": {
    "deletable": true,
    "editable": true
   },
   "source": [
    "### Model Metadata\n",
    "The model will be stored in the models directory in your DSX Project. Each model is stored as a directory, in which the model artifact and metadata are stored. The metadata is stored as a JSON file, which we can open and display."
   ]
  },
  {
   "cell_type": "code",
   "execution_count": 23,
   "metadata": {
    "collapsed": false,
    "deletable": true,
    "editable": true
   },
   "outputs": [
    {
     "name": "stdout",
     "output_type": "stream",
     "text": [
      "Runtime: Python27\n",
      "Model Type: keras-2.0\n",
      "Algorithm: Sequential\n",
      "Feature(s):\n",
      "    X\n",
      "    Y\n",
      "Latest Model Version: 1\n",
      "Label(s):\n",
      "    Z\n"
     ]
    }
   ],
   "source": [
    "import json\n",
    "import os\n",
    "\n",
    "proj_dir = os.environ['DSX_PROJECT_DIR']\n",
    "\n",
    "with open('{}/models/CategoricalTrig/metadata.json'.format(proj_dir),'r') as infile:\n",
    "    metadata_dict = json.load(infile)\n",
    "\n",
    "print(\"Runtime: {}\".format(metadata_dict['runtime']))\n",
    "print(\"Model Type: {}\".format(metadata_dict['type']))\n",
    "print(\"Algorithm: {}\".format(metadata_dict['algorithm']))\n",
    "\n",
    "print(\"Feature(s):\")\n",
    "for feature in metadata_dict['features']:\n",
    "    print('    '+feature['name'])\n",
    "\n",
    "print(\"Latest Model Version: {}\".format(metadata_dict['latestModelVersion']))\n",
    "print(\"Label(s):\")\n",
    "for label in metadata_dict['labelColumns']:\n",
    "    print('    '+label['name'])"
   ]
  },
  {
   "cell_type": "markdown",
   "metadata": {
    "deletable": true,
    "editable": true
   },
   "source": [
    "<a id='Summary'></a>\n",
    "## Summary\n",
    "In this notebook you learned how to create a `Keras` model, evaluate the model numerically and graphically, and save the model in the DSX local environment."
   ]
  },
  {
   "cell_type": "markdown",
   "metadata": {
    "deletable": true,
    "editable": true
   },
   "source": [
    "<div class=\"alert alert-block alert-info\">Note: To save resources and get the best performance please use the code below to stop the kernel before exiting your notebook.</div>"
   ]
  },
  {
   "cell_type": "code",
   "execution_count": null,
   "metadata": {
    "collapsed": true,
    "deletable": true,
    "editable": true
   },
   "outputs": [],
   "source": [
    "%%javascript\n",
    "Jupyter.notebook.session.delete();"
   ]
  },
  {
   "cell_type": "markdown",
   "metadata": {
    "deletable": true,
    "editable": true
   },
   "source": [
    "<hr>\n",
    "Copyright &copy; IBM Corp. 2017. Released as licensed Sample Materials."
   ]
  }
 ],
 "metadata": {
  "kernelspec": {
   "display_name": "Python 2",
   "language": "python",
   "name": "python2"
  },
  "language_info": {
   "codemirror_mode": {
    "name": "ipython",
    "version": 2
   },
   "file_extension": ".py",
   "mimetype": "text/x-python",
   "name": "python",
   "nbconvert_exporter": "python",
   "pygments_lexer": "ipython2",
   "version": "2.7.13"
  }
 },
 "nbformat": 4,
 "nbformat_minor": 1
}
